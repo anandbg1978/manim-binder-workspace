{
  "cells": [
    {
      "cell_type": "markdown",
      "metadata": {},
      "source": [
        "# Manim Interactive Development\n\n",
        "Welcome to your Manim Binder workspace! This notebook provides examples and templates for creating animations.\n\n",
        "## Quick Start\n",
        "1. Run each cell with **Shift + Enter**\n",
        "2. Modify the code and re-run to see changes\n",
        "3. Use `-ql` for fast previews, `-qm` for medium quality, `-qh` for high quality"
      ]
    },
    {
      "cell_type": "code",
      "execution_count": null,
      "metadata": {},
      "outputs": [],
      "source": [
        "# Import Manim\n",
        "from manim import *\n",
        "import numpy as np"
      ]
    },
    {
      "cell_type": "markdown",
      "metadata": {},
      "source": [
        "## Basic Example - Circle to Square Transform"
      ]
    },
    {
      "cell_type": "code",
      "execution_count": null,
      "metadata": {},
      "outputs": [],
      "source": [
        "class BasicExample(Scene):\n",
        "    def construct(self):\n",
        "        # Create shapes\n",
        "        circle = Circle(radius=1.5, color=BLUE)\n",
        "        square = Square(side_length=3, color=RED)\n",
        "        \n",
        "        # Set properties\n",
        "        circle.set_fill(BLUE, opacity=0.7)\n",
        "        square.set_fill(RED, opacity=0.7)\n",
        "        square.rotate(PI / 4)\n",
        "        \n",
        "        # Add title\n",
        "        title = Text(\"Basic Manim Animation\", font_size=36, color=WHITE).move_to(UP*3)\n",
        "        \n",
        "        # Animate\n",
        "        self.play(Write(title))\n",
        "        self.play(Create(circle))\n",
        "        self.wait(0.5)\n",
        "        self.play(Transform(circle, square))\n",
        "        self.wait(1)\n",
        "        self.play(FadeOut(circle), FadeOut(title))"
      ]
    },
    {
      "cell_type": "code",
      "execution_count": null,
      "metadata": {},
      "outputs": [],
      "source": [
        "%%manim -v WARNING -ql BasicExample"
      ]
    },
    {
      "cell_type": "markdown",
      "metadata": {},
      "source": [
        "## Your Scene Adaptation Area\n",
        "Copy and paste your existing scenes here for testing in Binder."
      ]
    },
    {
      "cell_type": "code",
      "execution_count": null,
      "metadata": {},
      "outputs": [],
      "source": [
        "# Paste your existing scene classes here\n",
        "# Example:\n",
        "# class YourExistingScene(Scene):\n",
        "#     def construct(self):\n",
        "#         # Your scene code here\n",
        "#         pass"
      ]
    },
    {
      "cell_type": "code",
      "execution_count": null,
      "metadata": {},
      "outputs": [],
      "source": [
        "# Render your scene\n",
        "# %%manim -v WARNING -ql YourExistingScene"
      ]
    },
    {
      "cell_type": "markdown",
      "metadata": {},
      "source": [
        "## Tips for Binder Development\n\n",
        "1. **Start with `-ql`** for fast previews\n",
        "2. **Use medium quality `-qm`** for final testing\n",
        "3. **Save frequently** - download notebooks regularly\n",
        "4. **Keep scenes simple** - complex scenes may timeout\n",
        "5. **Upload audio files** to the Binder session for audio integration\n\n",
        "## Quality Settings\n",
        "- `-ql`: Low quality (fast, good for development)\n",
        "- `-qm`: Medium quality (balanced)\n",
        "- `-qh`: High quality (slow, for final renders)\n\n",
        "## Common Issues\n",
        "- **Scene doesn't render**: Check class name matches magic command\n",
        "- **Memory errors**: Restart kernel and simplify scene\n",
        "- **Timeout**: Break complex scenes into smaller parts"
      ]
    }
  ],
  "metadata": {
    "kernelspec": {
      "display_name": "Python 3",
      "language": "python",
      "name": "python3"
    },
    "language_info": {
      "codemirror_mode": {
        "name": "ipython",
        "version": 3
      },
      "file_extension": ".py",
      "mimetype": "text/x-python",
      "name": "python",
      "nbconvert_exporter": "python",
      "pygments_lexer": "ipython3",
      "version": "3.9.0"
    }
  },
  "nbformat": 4,
  "nbformat_minor": 4
}